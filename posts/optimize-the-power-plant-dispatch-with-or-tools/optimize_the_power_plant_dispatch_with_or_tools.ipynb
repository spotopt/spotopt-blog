{
 "cells": [
  {
   "cell_type": "raw",
   "metadata": {},
   "source": [
    "---\n",
    "title: \"Optimizing the power plant dispatch with OR-Tools\"\n",
    "author: \"Raik Becker\"\n",
    "date: 2024-02-18\n",
    "abstract: This blog post examines the application of Google's OR-Tools with a focus on unit-commitment and dispatch models, detailing setup, parameters, and constraints. \n",
    "categories: [power markets, python, unit-commitment, dispatch, ortools]\n",
    "image: \"image.png\"\n",
    "toc: true\n",
    "number-sections: true\n",
    "number-depth: 3\n",
    "\n",
    "format: \n",
    "  html:\n",
    "    code-fold: false\n",
    "    code-line-numbers: true\n",
    "jupyter: python3\n",
    "---"
   ]
  },
  {
   "cell_type": "markdown",
   "metadata": {},
   "source": [
    "## OR-Tools\n",
    "\n",
    "### Overview\n",
    "\n",
    "When exploring Python packages for tackling mixed-integer programming (MIP) and various optimization challenges, it's crucial to distinguish between two key components: the front-end, where you define your problem (including the objective function and constraints), and the solver, which works behind the scenes to find a solution. Here are some of the more common options for solving MIP problems in Python:\n",
    "\n",
    "* [milp in Scipy](https://docs.scipy.org/doc/scipy/reference/generated/scipy.optimize.milp.html#scipy.optimize.milp), acting as a wrapper for [HiGHS linear optimization software](https://highs.dev/),\n",
    "* [Pyomo](http://www.pyomo.org/), which is also used by [Python for Power System Analysis (PyPSA)](https://pypsa.org/index.html),\n",
    "* [PuLP](https://github.com/coin-or/pulp), another popular choice for defining optimization models.\n",
    "\n",
    "However, a noteworthy contender in this field is [OR-Tools from Google](https://developers.google.com/optimization). According to the [OR-Tools webside](https://developers.google.com/optimization), OR-Tools is: \n",
    "\n",
    ">  [...] an open source software suite for optimization, tuned for tackling the world's toughest problems in vehicle routing, flows, integer and linear programming, and constraint programming.\n",
    "\n",
    "As of February 10, 2024, the project had 10.2k stars on [GitHub](https://github.com/google/or-tools). For comparison, Pyomo had only 1.8k stars on [GitHub](https://github.com/Pyomo/pyomo).\n",
    "\n",
    "What I like about OR-Tools is the fact that a tech giant like Google is standing behind it. Google obviously has a lot of optimization problems to solve and hence they have a vested interest in the continuous development and maintenance of this project. What I don't like is the API reference. The [website](https://developers.google.com/optimization) with guides and examples is okay. However, the Python API reference could use more love even though there exist two versions, namely one build with [pdoc](https://or-tools.github.io/docs/pdoc/ortools.html) and one [doxygen version](https://or-tools.github.io/docs/python/index.html).\n",
    "\n",
    "It is worth mentioning that OR-Tools comes with an interface to several commercial and non-commercial solvers, offering flexibility in choosing the right tool for the job. In addition, you can also make use of Google's own solver for linear optimization problems, which is called [Glop](https://github.com/google/or-tools/tree/stable/ortools/glop).\n",
    "\n",
    "\n",
    "### Installation\n",
    "\n",
    "The OR-Tools package is available on [PyPI](https://pypi.org/project/ortools/) and can be installed using pip:\n",
    "```\n",
    "pip install ortools\n",
    "```\n",
    "\n",
    "For this blog post, I am using version 9.8.3296, which was the latest one I could install.\n"
   ]
  },
  {
   "cell_type": "markdown",
   "metadata": {},
   "source": [
    "## The unit-commitment and dispatch model\n",
    "\n",
    "Let's dive into solving a straightforward unit-commitment and dispatch problem using mixed-integer programming (MIP) with OR-Tools. We'll explore both the problem formulation and the coding aspect side by side, providing a clear, step-by-step guide to under how OR-Tools works."
   ]
  },
  {
   "cell_type": "markdown",
   "metadata": {},
   "source": [
    "### Solver\n",
    "To begin, we initialize the solver by importing `pywraplp`.\n",
    "For solving MIPs, OR-Tools utilizes a third-party open-source solver know as [SCIP (Solving Constraint Integer Programs)](https://www.scipopt.org/). We'll specify SCIP as our solver of choice in this example."
   ]
  },
  {
   "cell_type": "code",
   "execution_count": 109,
   "metadata": {},
   "outputs": [],
   "source": [
    "from ortools.linear_solver import pywraplp\n",
    "solver = pywraplp.Solver.CreateSolver(\"SCIP\")"
   ]
  },
  {
   "cell_type": "markdown",
   "metadata": {},
   "source": [
    "### Parameters"
   ]
  },
  {
   "cell_type": "markdown",
   "metadata": {},
   "source": [
    "#### Time\n",
    "\n",
    "Three time steps are sufficient for demonstration purposes."
   ]
  },
  {
   "cell_type": "code",
   "execution_count": 110,
   "metadata": {},
   "outputs": [],
   "source": [
    "times = (1, 2, 3)"
   ]
  },
  {
   "cell_type": "markdown",
   "metadata": {},
   "source": [
    "#### Costs and prices\n",
    "\n",
    "Our power plant has fixed fuel costs and start-up costs. Meanwhile, the market price changes throughout the optimization horizon.\n",
    "\n",
    "\n",
    "Time step | Variable costs ($C^F$) | Start-up costs ($C^{ST}$) | Market price ($\\pi_t$)\n",
    "---|---|---|---\n",
    "1 | 120 | 10 | 200\n",
    "2 | 120 | 10 | 100\n",
    "3 | 120 | 10 | 200"
   ]
  },
  {
   "cell_type": "markdown",
   "metadata": {},
   "source": [
    "#### Production limits\n",
    "\n",
    "Our power plant can produce between 10 ($P^{\\min}$) and 100 MW ($P^{\\max}$). If it was between 0 and 100 MW, we could have modelled this as a linear program (LP).\n",
    "\n",
    "These are essentially all the input parameters we need:"
   ]
  },
  {
   "cell_type": "code",
   "execution_count": 111,
   "metadata": {},
   "outputs": [],
   "source": [
    "PROD_MIN = 10  # in MW\n",
    "PROD_MAX = 100  # in MW\n",
    "PROD_COSTS = {t: 120 for t in times}  # in EUR/MWh\n",
    "START_UP_COSTS = 10  # in EUR\n",
    "PRICE = {1: 200, 2: 100, 3: 200}  # in EUR/MWh"
   ]
  },
  {
   "cell_type": "markdown",
   "metadata": {},
   "source": [
    "### Variables\n",
    "\n",
    "In total, four variables are needed. Only one that reflects the dispatch volume and three to model the unit-commitment logic, which we will dive into when adding the constraints to the model.\n",
    "\n",
    "\n",
    "- $p_t \\in [P^{\\min}, P^{\\max}]$: production\n",
    "- $u_t \\in \\{0,1\\}$: in operation\n",
    "- $v_t \\in \\{0,1\\}$: start-up\n",
    "- $w_t \\in \\{0,1\\}$: shut-down\n",
    "\n",
    "In the code, we store the variables that we add with either `IntVar` or `NumVar` into dictionaries so that we can access them later to write the constraints."
   ]
  },
  {
   "cell_type": "code",
   "execution_count": 112,
   "metadata": {},
   "outputs": [],
   "source": [
    "production = dict.fromkeys(times)\n",
    "operating = dict.fromkeys(times)\n",
    "start_up = dict.fromkeys(times)\n",
    "shut_down = dict.fromkeys(times)\n",
    "\n",
    "\n",
    "for t in times:\n",
    "    operating[t] = solver.IntVar(0, 1, f\"operating_{t}\")\n",
    "    start_up[t] = solver.IntVar(0, 1, f\"start_up_{t}\")\n",
    "    shut_down[t] = solver.IntVar(0, 1, f\"shut_down_{t}\")\n",
    "    production[t] = solver.NumVar(0, PROD_MAX, f\"production_{t}\")"
   ]
  },
  {
   "cell_type": "markdown",
   "metadata": {},
   "source": [
    "### Objective function\n",
    "\n",
    "Our objective is to maximize profits. In every time step, our revenue is defined as the market price minus our fuel costs for the energy produced: $(\\pi_t - C^F) \\cdot p_t$. In addition, the start-up costs $C^{ST}$ need to be added for start-ups $v_t$. Costs for shutting down the power plant are neglected. This yields the following objective function:\n",
    "\n",
    "$$\\max_{\\mathbf{v}, \\mathbf{p}}  \\sum_{t \\in T} (\\pi_t - C^F) \\cdot p_t + C^{ST} \\cdot v_t.$$\n",
    "\n",
    "We need to do the same in the code. By making use of a list comprehension, we can add it via `solver.Sum()` to the solver."
   ]
  },
  {
   "cell_type": "code",
   "execution_count": 113,
   "metadata": {},
   "outputs": [],
   "source": [
    "obj_expr = [\n",
    "    (PRICE[t] - PROD_COSTS[t]) * production[t]\n",
    "    - START_UP_COSTS * start_up[t]\n",
    "    for t in times\n",
    "]\n",
    "solver.Maximize(solver.Sum(obj_expr))"
   ]
  },
  {
   "cell_type": "markdown",
   "metadata": {},
   "source": [
    "### Constraints"
   ]
  },
  {
   "cell_type": "markdown",
   "metadata": {},
   "source": [
    "#### Production limits\n",
    "\n",
    "We need to add constraints for the production limits. Given that $P^{\\min} > 0$, it is necessary to add the commitment variable $u_t$. Otherwise the production $p_t$ could never be zero when the power plant is switched off.\n",
    "\n",
    "$$ u_t \\cdot P^{\\min} \\leq p_t \\leq u_t \\cdot P^{\\max}$$\n",
    "\n",
    "In the code, it could make sense to split this constraint up into two constraints for the sake of clarity. In Or-Tools, constraints are added with `solver.Add()`. This is required for each time step and that is why we need a for loop here."
   ]
  },
  {
   "cell_type": "code",
   "execution_count": 114,
   "metadata": {},
   "outputs": [],
   "source": [
    "for t in times:\n",
    "    solver.Add(operating[t] * PROD_MIN <= production[t])\n",
    "    solver.Add(production[t] <= operating[t] * PROD_MAX)"
   ]
  },
  {
   "cell_type": "markdown",
   "metadata": {},
   "source": [
    "#### Unit-commitment logic\n",
    "\n",
    "There is at least one constraint needed to link the unit-commitment integer variables together. The chosen formulation is as follows:\n",
    "\n",
    "$$u_t = u_{t-1} + v_t - w_t.$$\n",
    "\n",
    "This equation ensures that if a power plant starts at time $t$ (indicated by a positive $v_t$), it is considered operational in that period due to $u_t = \\dots + v_t \\dots$. There are also other formulations out there in which you might need to start the power plant in $t-1$ so that is operational in $t$. This can be useful when modelling more complex start-up constraints. However, I find the formulation I use here more intuitive and compact.\n",
    "\n",
    "In the code, we need to start iterating over time steps from the second interval, as the initial step lacks a preceding time step ($t-1$). Consequently, to manage the commitment status in the first time step, an additional constraint is needed. This constraint ensures the power plant is marked as operational (committed) if it is started at $t=1$, addressing the absence of a prior state.\n"
   ]
  },
  {
   "cell_type": "code",
   "execution_count": 115,
   "metadata": {},
   "outputs": [
    {
     "data": {
      "text/plain": [
       "<ortools.linear_solver.pywraplp.Constraint; proxy of <Swig Object of type 'operations_research::MPConstraint *' at 0x7f5fd1387840> >"
      ]
     },
     "execution_count": 115,
     "metadata": {},
     "output_type": "execute_result"
    }
   ],
   "source": [
    "for t in times[1:]:\n",
    "    solver.Add(operating[t] == operating[t - 1] + start_up[t] - shut_down[t])\n",
    "\n",
    "solver.Add(operating[1] == start_up[1])"
   ]
  },
  {
   "cell_type": "markdown",
   "metadata": {},
   "source": [
    "## Solving"
   ]
  },
  {
   "cell_type": "markdown",
   "metadata": {},
   "source": [
    "Let's solve this profit maximization problem and catch the solution (`status`)."
   ]
  },
  {
   "cell_type": "code",
   "execution_count": 116,
   "metadata": {},
   "outputs": [],
   "source": [
    "status = solver.Solve()"
   ]
  },
  {
   "cell_type": "markdown",
   "metadata": {},
   "source": [
    "Let's first check whether the optimization was solved successfully and what the optimal objective value is."
   ]
  },
  {
   "cell_type": "code",
   "execution_count": 117,
   "metadata": {},
   "outputs": [
    {
     "name": "stdout",
     "output_type": "stream",
     "text": [
      "Objective value = 15980.0\n"
     ]
    }
   ],
   "source": [
    "if status == pywraplp.Solver.OPTIMAL:\n",
    "    print(\"Objective value =\", solver.Objective().Value())\n"
   ]
  },
  {
   "cell_type": "markdown",
   "metadata": {},
   "source": [
    "To get to this solution, the solver needed:"
   ]
  },
  {
   "cell_type": "code",
   "execution_count": 118,
   "metadata": {},
   "outputs": [
    {
     "name": "stdout",
     "output_type": "stream",
     "text": [
      "109 milliseconds.\n"
     ]
    }
   ],
   "source": [
    "print(f\"{solver.wall_time():d} milliseconds.\")"
   ]
  },
  {
   "cell_type": "markdown",
   "metadata": {},
   "source": [
    "The solver needed to explore:"
   ]
  },
  {
   "cell_type": "code",
   "execution_count": 119,
   "metadata": {},
   "outputs": [
    {
     "name": "stdout",
     "output_type": "stream",
     "text": [
      "0 branch-and-bound nodes.\n"
     ]
    }
   ],
   "source": [
    "print(f\"{solver.nodes():d} branch-and-bound nodes.\")"
   ]
  },
  {
   "cell_type": "markdown",
   "metadata": {},
   "source": [
    "That is because the MIP and LP results are exactly the same. Hence, there is no need to further add branches."
   ]
  },
  {
   "cell_type": "markdown",
   "metadata": {},
   "source": [
    "Let's inspect the optimal dispatch."
   ]
  },
  {
   "cell_type": "code",
   "execution_count": 120,
   "metadata": {},
   "outputs": [
    {
     "name": "stdout",
     "output_type": "stream",
     "text": [
      "100.0\n",
      "0.0\n",
      "100.0\n"
     ]
    }
   ],
   "source": [
    "for t in times:\n",
    "    print(production[t].solution_value())"
   ]
  },
  {
   "cell_type": "markdown",
   "metadata": {},
   "source": [
    "The power plants is operating with the maximum admissible production capacity when the market price is above the variable and start-up costs. This implies that the power plant is switched off during the second time interval, which we can confirm when inspecting the integer variables."
   ]
  },
  {
   "cell_type": "code",
   "execution_count": 121,
   "metadata": {},
   "outputs": [
    {
     "name": "stdout",
     "output_type": "stream",
     "text": [
      "Operation ------------------------------\n",
      "1.0\n",
      "0.0\n",
      "1.0\n",
      "start-up ------------------------------\n",
      "1.0\n",
      "0.0\n",
      "1.0\n",
      "shut-down ------------------------------\n",
      "-0.0\n",
      "1.0\n",
      "0.0\n"
     ]
    }
   ],
   "source": [
    "print(\"Operation ------------------------------\")\n",
    "for t in times:\n",
    "    print(operating[t].solution_value())\n",
    "\n",
    "print(\"start-up ------------------------------\")\n",
    "for t in times:\n",
    "    print(start_up[t].solution_value())\n",
    "\n",
    "print(\"shut-down ------------------------------\")\n",
    "for t in times:\n",
    "    print(shut_down[t].solution_value())"
   ]
  },
  {
   "cell_type": "markdown",
   "metadata": {},
   "source": [
    "## What's next\n",
    "\n",
    "If you wanted to extend the scope of this unit-commitment and dispatch optimization, the next steps would include adding ramping constraints as well as the minimum uptime and downtime. These kind of constraints could be simply added as a combination of for loops and `solver.Add()`. In that sense, OR-Tools could get you quite far with a, in my opinion, nice and clean syntax."
   ]
  },
  {
   "cell_type": "markdown",
   "metadata": {},
   "source": [
    "## Summary\n",
    "OR-Tools, supported by Google, is a comprehensive solution for tackling a wide range of optimization problems, including linear, integer, and constraint programming. Our exploration included a hands-on example with a unit-commitment and dispatch model, showcasing the clean and modern syntax that makes OR-Tools appealing for project development. However, the API reference could be more user-friendly. Despite that, I could see myself using OR-Tools for a bigger project but it is always worth checking in advance whether it really serves all your requirements."
   ]
  }
 ],
 "metadata": {
  "kernelspec": {
   "display_name": "spotopt",
   "language": "python",
   "name": "python3"
  },
  "language_info": {
   "codemirror_mode": {
    "name": "ipython",
    "version": 3
   },
   "file_extension": ".py",
   "mimetype": "text/x-python",
   "name": "python",
   "nbconvert_exporter": "python",
   "pygments_lexer": "ipython3",
   "version": "3.11.5"
  }
 },
 "nbformat": 4,
 "nbformat_minor": 2
}
