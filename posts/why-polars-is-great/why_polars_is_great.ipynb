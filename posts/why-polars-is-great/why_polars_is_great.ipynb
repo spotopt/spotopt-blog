{
 "cells": [
  {
   "cell_type": "raw",
   "id": "7088a0ab-2f1f-417c-b440-4f7655844008",
   "metadata": {},
   "source": [
    "---\n",
    "title: \"Why Polars is great\"\n",
    "author: \"Raik Becker\"\n",
    "date: 2023-12-01\n",
    "abstract: \"Discover the capabilities of Polars and explore its key differences from pandas in data manipulation and analysis. Learn how to choose between these powerful tools based on your data handling needs, ensuring efficient and effective data analysis.\"\n",
    "categories: [python, polars, pandas, data science]\n",
    "image: \"image.png\"\n",
    "toc: true\n",
    "number-sections: true\n",
    "number-depth: 2\n",
    "\n",
    "format: \n",
    "  html:\n",
    "    code-fold: false\n",
    "    code-line-numbers: true\n",
    "jupyter: python3\n",
    "---"
   ]
  },
  {
   "cell_type": "markdown",
   "id": "38086e19-4d86-4da8-a893-372c6f1d2ce4",
   "metadata": {},
   "source": [
    "## What is Polars?\n",
    "According to the [official Polars website](https://www.pola.rs/), Polars is\n",
    "\n",
    ">  [...] a lightning fast DataFrame library/in-memory query engine. Its embarrassingly parallel execution, cache efficient algorithms and expressive API makes it perfect for efficient data wrangling, data pipelines, snappy APIs and so much more.\n",
    "\n",
    "This sounds a lot like pandas, doesn't it? According to the [pandas website](https://pandas.pydata.org/), pandas is:\n",
    "\n",
    "> [...] a fast, powerful, flexible and easy to use open source data analysis and manipulation tool,\n",
    "built on top of the Python programming language.\n",
    "\n",
    "Alright then, both are clearly intended for similar things, but Polars has this emphasize on speed and this is really the first noteworthy difference. Polars is implemented in Rust, which, in contrast to Python, does not have a Global Interpreter Lock (GIL). That means that you can use your entire machine for your data wrangling with Polars. Let's have a closer look into the differences of these two tools."
   ]
  },
  {
   "cell_type": "markdown",
   "id": "84b4bb44-a291-44b4-b7c3-d14db24a3c40",
   "metadata": {},
   "source": [
    "## The main differences between Polars and pandas\n",
    "### There is no index/multi-index in Polars\n",
    "Yes, you read this correctly. How can that be true? Could you have wasted all the hours you spent learning how to use `reset_index()`, `set_index()`, and the difference between `.loc[]` and `.iloc[]`? Maybe. Honestly, if you really think about it, it doesn't make too much sense. Just think about databases and SQL for a moment. SQL tables have no such index either and SQL is the forefront of data engineering. On the other hand, once you have mastered pandas' index, functions like `resample()` can make your life much easier. But once again, at the end, it doesn't matter really whether it is an index or simply a column. Polars makes a good point with this:\n",
    "\n",
    "> Polars aims to have predictable results and readable queries, as such we think an index does not help us reach that objective.\n",
    "\n",
    "### Parallel operations\n",
    "As already mentioned, you can parallelize with Polars because it is written in Rust. This all happens under hood. That means you don't need to care about it or install anything else.\n",
    "\n",
    "### The lazy API\n",
    "As of today, pandas has only an eager API. This means that when you run whatever command with pandas, let's say `join()`, pandas will execute this directly. Polars lets you collect commands into a query, which are then executed when you call the `collect()` function. By knowing all the steps you want to execute, Polars can make use of a query optimization to speed up your code."
   ]
  },
  {
   "cell_type": "markdown",
   "id": "b8d36022-8375-426f-9b1d-9c71d5429029",
   "metadata": {},
   "source": [
    "## What they have in common\n",
    "A lot actually. That is because pandas is an awesome library and they have thought of great things that do not need to be reinvented. If you are coming from pandas, you will need some time to adjust yourself to the somewhat different syntax. Other than that, you will quickly find your way around things in Polars.\n",
    "\n",
    "In this [section of the Polars' user guide](https://pola-rs.github.io/polars/user-guide/migration/pandas/#key-syntax-differences), you can find a list of the key syntax differences."
   ]
  },
  {
   "cell_type": "markdown",
   "id": "1990574d-3444-4378-91a1-d933feb80604",
   "metadata": {},
   "source": [
    "## More amazing features\n",
    "\n",
    "This is a list of features I find personally very interesting and that are difficult to find elsewhere.\n",
    "\n",
    "### Scanning files\n",
    "Most input functions that start with `read_` have also a `scan_` equivalent, e.g. `read_parquet()` and `scan_parquet()`. What it does is that it allows you to first scan the file instead of reading the whole file into memory. This gives you to the possibility to query data in a file with less RAM and CPU usage.\n",
    "\n",
    "### SQL\n",
    "If you are familiar with SQL and want to use it even in the Python world, you can do this with Polars. Polars offers an SQL API that lets you write SQL queries. This even works across different files with different file formats. If you combine it with scanning files, you can for example merge parts of a csv file with a couple of columns in a parquet file on a cloud storage without consuming too much memory or CPU.\n",
    "\n",
    "This is the link to the [SQL section of the Polars user guide](https://pola-rs.github.io/polars/user-guide/sql/intro/).\n",
    "\n",
    "### Streaming\n",
    "Even though the streaming feature is still under development, you can already use it for a few file formats and functions. Streaming is running your query in batches, which enables you to deal with datasets that are larger than your memory.\n",
    "\n",
    "You can read more about [streaming in the official user guide](https://pola-rs.github.io/polars/user-guide/concepts/streaming/)."
   ]
  },
  {
   "cell_type": "markdown",
   "id": "acaf54f1-ce86-409c-8b3a-75f328ed98eb",
   "metadata": {},
   "source": [
    "## Should I switch completely to Polars?\n",
    "No, don't! Especially not if you have already thousands of lines of pandas code. Instead, use Polars there you really need it, namely where your bottlenecks are. So start there where you really need a speed-up or where reading from many different data sources has become a burden with pandas. In summary, use pandas and Polars at what they are good at, instead of going for one of them only.\n",
    "\n",
    "In your code, you can simply convert between these two DataFrame types, even though you shouldn't do it too often with big DataFrames. Here is an example:"
   ]
  },
  {
   "cell_type": "code",
   "execution_count": 1,
   "id": "a2a692b4-3870-4697-b0c7-3858d0dc79a3",
   "metadata": {},
   "outputs": [
    {
     "data": {
      "text/plain": [
       "pandas.core.frame.DataFrame"
      ]
     },
     "execution_count": 1,
     "metadata": {},
     "output_type": "execute_result"
    }
   ],
   "source": [
    "import pandas as pd\n",
    "import polars as pl\n",
    "\n",
    "pandas_df = pd.DataFrame({\"col1\": [0, 1], \"col2\": [\"a\", \"b\"]})\n",
    "type(pandas_df)"
   ]
  },
  {
   "cell_type": "code",
   "execution_count": 2,
   "id": "fe6b9092-6ad9-4325-bf15-1bdaa5f10302",
   "metadata": {
    "scrolled": true
   },
   "outputs": [
    {
     "data": {
      "text/plain": [
       "polars.dataframe.frame.DataFrame"
      ]
     },
     "execution_count": 2,
     "metadata": {},
     "output_type": "execute_result"
    }
   ],
   "source": [
    "polars_df = pl.from_pandas(pandas_df)\n",
    "type(polars_df)"
   ]
  },
  {
   "cell_type": "code",
   "execution_count": 3,
   "id": "eb43e137-0430-48b9-b2b9-439ea23d4783",
   "metadata": {},
   "outputs": [
    {
     "data": {
      "text/plain": [
       "pandas.core.frame.DataFrame"
      ]
     },
     "execution_count": 3,
     "metadata": {},
     "output_type": "execute_result"
    }
   ],
   "source": [
    "type(polars_df.to_pandas())"
   ]
  },
  {
   "cell_type": "markdown",
   "id": "aee028e4-fb0f-464f-9603-f6f8daea974d",
   "metadata": {},
   "source": [
    "## Summary\n",
    "Polars is , similar to pandas, a powerful Python libary for data wrangling and more. Given that it is written in Rust, it is much faster and more memory-efficient than pandas. If you need that extra bit of performance, you should definetly check out Polars.\n",
    "\n",
    "However, don't be silly and rewrite all your pandas code in Polars. Polars and pandas get along with each other and are probably most powerful when used together."
   ]
  },
  {
   "cell_type": "markdown",
   "id": "acd07277-d61d-49cb-8a0a-765707471264",
   "metadata": {},
   "source": [
    "## Links\n",
    "Check out the [official Polars website](https://www.pola.rs/). It contains a nice user guide and the API docs.\n",
    "If you are coming from pandas, read [Coming from Pandas](https://pola-rs.github.io/polars/user-guide/migration/pandas/) first before you start writing code."
   ]
  }
 ],
 "metadata": {
  "kernelspec": {
   "display_name": "Python 3 (ipykernel)",
   "language": "python",
   "name": "python3"
  },
  "language_info": {
   "codemirror_mode": {
    "name": "ipython",
    "version": 3
   },
   "file_extension": ".py",
   "mimetype": "text/x-python",
   "name": "python",
   "nbconvert_exporter": "python",
   "pygments_lexer": "ipython3",
   "version": "3.11.5"
  }
 },
 "nbformat": 4,
 "nbformat_minor": 5
}
